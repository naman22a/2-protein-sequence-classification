{
 "cells": [
  {
   "cell_type": "code",
   "execution_count": 1,
   "id": "6538e544-6179-48d4-a2a4-2dd9a444a947",
   "metadata": {},
   "outputs": [],
   "source": [
    "import pandas as pd\n",
    "import matplotlib.pyplot as plt\n",
    "import seaborn as sns"
   ]
  },
  {
   "cell_type": "code",
   "execution_count": 2,
   "id": "f6a11ce9-b046-4038-a32e-9b9f15151d80",
   "metadata": {},
   "outputs": [
    {
     "data": {
      "text/html": [
       "<div>\n",
       "<style scoped>\n",
       "    .dataframe tbody tr th:only-of-type {\n",
       "        vertical-align: middle;\n",
       "    }\n",
       "\n",
       "    .dataframe tbody tr th {\n",
       "        vertical-align: top;\n",
       "    }\n",
       "\n",
       "    .dataframe thead th {\n",
       "        text-align: right;\n",
       "    }\n",
       "</style>\n",
       "<table border=\"1\" class=\"dataframe\">\n",
       "  <thead>\n",
       "    <tr style=\"text-align: right;\">\n",
       "      <th></th>\n",
       "      <th>sequence</th>\n",
       "      <th>classification</th>\n",
       "    </tr>\n",
       "  </thead>\n",
       "  <tbody>\n",
       "    <tr>\n",
       "      <th>0</th>\n",
       "      <td>MGAFLDKPKMEKHNAQGQGNGLRYGLSSMQGWRVEMEDAHTAVIGL...</td>\n",
       "      <td>HYDROLASE</td>\n",
       "    </tr>\n",
       "    <tr>\n",
       "      <th>1</th>\n",
       "      <td>KETAAAKFERQHMDSSTSAASSSNYCNQMMKSRNLTKDRCKPVNTF...</td>\n",
       "      <td>HYDROLASE</td>\n",
       "    </tr>\n",
       "    <tr>\n",
       "      <th>2</th>\n",
       "      <td>IVGGYTCQENSVPYQVSLNSGYHFCGGSLINDQWVVSAAHCYKSRI...</td>\n",
       "      <td>HYDROLASE</td>\n",
       "    </tr>\n",
       "    <tr>\n",
       "      <th>3</th>\n",
       "      <td>KVFGRCELAAAMKRHGLDNYRGYSLGNWVCAAKFESNFNTQATNRN...</td>\n",
       "      <td>HYDROLASE</td>\n",
       "    </tr>\n",
       "    <tr>\n",
       "      <th>4</th>\n",
       "      <td>ELIRVAILWHEMWHEGLEEASRLYFGERNVKGMFEVLEPLHAMMER...</td>\n",
       "      <td>TRANSFERASE</td>\n",
       "    </tr>\n",
       "  </tbody>\n",
       "</table>\n",
       "</div>"
      ],
      "text/plain": [
       "                                            sequence classification\n",
       "0  MGAFLDKPKMEKHNAQGQGNGLRYGLSSMQGWRVEMEDAHTAVIGL...      HYDROLASE\n",
       "1  KETAAAKFERQHMDSSTSAASSSNYCNQMMKSRNLTKDRCKPVNTF...      HYDROLASE\n",
       "2  IVGGYTCQENSVPYQVSLNSGYHFCGGSLINDQWVVSAAHCYKSRI...      HYDROLASE\n",
       "3  KVFGRCELAAAMKRHGLDNYRGYSLGNWVCAAKFESNFNTQATNRN...      HYDROLASE\n",
       "4  ELIRVAILWHEMWHEGLEEASRLYFGERNVKGMFEVLEPLHAMMER...    TRANSFERASE"
      ]
     },
     "execution_count": 2,
     "metadata": {},
     "output_type": "execute_result"
    }
   ],
   "source": [
    "data = pd.read_csv('./data/protein_data.csv')\n",
    "data.head()"
   ]
  },
  {
   "cell_type": "code",
   "execution_count": 3,
   "id": "f8fe2e89-07d2-4818-a4ee-a30f1ab20371",
   "metadata": {},
   "outputs": [],
   "source": [
    "X = data['sequence']\n",
    "y = data['classification']\n",
    "\n",
    "from sklearn.preprocessing import LabelEncoder\n",
    "le = LabelEncoder()\n",
    "y = le.fit_transform(y)\n",
    "class_names = le.classes_\n",
    "n_classes = len(class_names)\n",
    "\n",
    "from sklearn.model_selection import train_test_split\n",
    "X_train, X_test, y_train,y_test = train_test_split(X, y, test_size=0.2, random_state=42)\n",
    "X_train, X_val, y_train, y_val = train_test_split(X_train, y_train, test_size=0.1, random_state=42)"
   ]
  },
  {
   "cell_type": "code",
   "execution_count": 4,
   "id": "07c7dd08-081e-4a67-bcc2-3efc47c44968",
   "metadata": {},
   "outputs": [
    {
     "name": "stdout",
     "output_type": "stream",
     "text": [
      "Average character length: 313.54\n"
     ]
    }
   ],
   "source": [
    "avg_char_len = X_train.str.len().mean()\n",
    "print(f\"Average character length: {avg_char_len:.2f}\")"
   ]
  },
  {
   "cell_type": "code",
   "execution_count": 5,
   "id": "268aca5b-ae7d-4135-8571-9391b5050ac1",
   "metadata": {},
   "outputs": [],
   "source": [
    "import torch\n",
    "\n",
    "aa_to_idx = {\n",
    "    'A': 1, 'C': 2, 'D': 3, 'E': 4, 'F': 5,\n",
    "    'G': 6, 'H': 7, 'I': 8, 'K': 9, 'L': 10,\n",
    "    'M': 11, 'N': 12, 'P': 13, 'Q': 14, 'R': 15,\n",
    "    'S': 16, 'T': 17, 'V': 18, 'W': 19, 'Y': 20,\n",
    "    'B': 0, 'Z': 0, 'U': 0, 'O': 0, 'X': 0\n",
    "}\n",
    "\n",
    "def encode_sequence(seq, max_len=250):\n",
    "    encoded = [aa_to_idx.get(aa, 0) for aa in seq]  # map or 0 if unknown\n",
    "    if len(encoded) < max_len:\n",
    "        encoded += [0] * (max_len - len(encoded))  # zero padding\n",
    "    else:\n",
    "        encoded = encoded[:max_len]  # truncate if longer\n",
    "    return torch.tensor(encoded, dtype=torch.long)"
   ]
  },
  {
   "cell_type": "code",
   "execution_count": 6,
   "id": "654e8ad3-fc59-4709-aca3-5b130fc47136",
   "metadata": {},
   "outputs": [
    {
     "name": "stdout",
     "output_type": "stream",
     "text": [
      "MREKLFWILKKYGVSDHIAKAFLEIPREEFLTKSYPLSYVYEDIVLVSYDDGEEYSTSSQPSLMALFMEWVGLDKGMRVLEIGGGTGYNAAVMSRVVGEKGLVVSVEYSRKICEIAKRNVERLGIENVIFVCGDGYYGVPEFSPYDVIFVTVGVDEVPETWFTQLKEGGRVIVPINLKLSRRQPAFLFKKKDPYLVGNYKLETRFITAGGNLGNLLERNRKLLREFPFNREILLVRSHIFVELVDLLTRRLTEIDGTFYYAGPNGVVEFLDDRMRIYGDAPEIENLLTQWESCGYRSFEYLMLHVGYNAFSHISCSI\n"
     ]
    },
    {
     "data": {
      "text/plain": [
       "tensor([[-0.5361, -1.1728,  1.9043,  ...,  1.3895, -0.8165,  0.7629],\n",
       "        [ 2.1487,  0.3674,  0.8257,  ...,  0.4385, -0.8972,  0.2225],\n",
       "        [ 0.1441,  0.0511,  0.3961,  ..., -0.7032,  2.0131,  0.7148],\n",
       "        ...,\n",
       "        [ 1.0333,  1.7221,  0.1002,  ..., -0.7439, -0.6899,  0.2032],\n",
       "        [ 2.1487,  0.3674,  0.8257,  ...,  0.4385, -0.8972,  0.2225],\n",
       "        [ 2.1487,  0.3674,  0.8257,  ...,  0.4385, -0.8972,  0.2225]],\n",
       "       grad_fn=<EmbeddingBackward0>)"
      ]
     },
     "execution_count": 6,
     "metadata": {},
     "output_type": "execute_result"
    }
   ],
   "source": [
    "print(X_train.iloc[0])\n",
    "embedding = torch.nn.Embedding(num_embeddings=21, embedding_dim=128, padding_idx=0)\n",
    "embedding(encode_sequence(X_train.iloc[0]))"
   ]
  },
  {
   "cell_type": "code",
   "execution_count": 7,
   "id": "7d4d2a56-0b0d-4d21-b555-39a1afc1379f",
   "metadata": {},
   "outputs": [],
   "source": [
    "import torch\n",
    "from torch.utils.data import Dataset, DataLoader\n",
    "\n",
    "class ProteinDataset(Dataset):\n",
    "    def __init__(self, X, y):\n",
    "        self.X = X\n",
    "        self.y = y\n",
    "\n",
    "    def __len__(self):\n",
    "        return len(self.X)\n",
    "\n",
    "    def __getitem__(self, idx):\n",
    "        seq = pd.Series(self.X).iloc[idx]\n",
    "        label = pd.Series(self.y).iloc[idx]\n",
    "        encoded_seq = encode_sequence(seq)\n",
    "        return encoded_seq, torch.tensor(label, dtype=torch.long)"
   ]
  },
  {
   "cell_type": "code",
   "execution_count": 8,
   "id": "c882af7c-3770-4a42-849d-bf391102f318",
   "metadata": {},
   "outputs": [],
   "source": [
    "train_dataset = ProteinDataset(X_train, y_train)\n",
    "val_dataset   = ProteinDataset(X_val, y_val)\n",
    "test_dataset  = ProteinDataset(X_test, y_test)\n",
    "\n",
    "batch_size = 32\n",
    "\n",
    "train_loader = DataLoader(train_dataset, batch_size=batch_size, shuffle=True)\n",
    "val_loader   = DataLoader(val_dataset, batch_size=batch_size, shuffle=False)\n",
    "test_loader  = DataLoader(test_dataset, batch_size=batch_size, shuffle=False)"
   ]
  },
  {
   "cell_type": "code",
   "execution_count": 9,
   "id": "11d00a98-2fb7-47b5-b800-9062606df478",
   "metadata": {},
   "outputs": [],
   "source": [
    "import time\n",
    "import torch\n",
    "import torch.nn as nn\n",
    "import torch.optim as optim\n",
    "\n",
    "class GRUClassifier(nn.Module):\n",
    "    def __init__(self, vocab_size, embedding_dim, hidden_dim, n_classes, pad_idx=0):\n",
    "        super(GRUClassifier, self).__init__()\n",
    "\n",
    "        # Embedding for protein sequences\n",
    "        self.embedding = nn.Embedding(vocab_size, embedding_dim, padding_idx=pad_idx)\n",
    "\n",
    "        # BiGRU\n",
    "        self.bigru = nn.GRU(\n",
    "            input_size=embedding_dim,\n",
    "            hidden_size=hidden_dim,\n",
    "            num_layers=1,\n",
    "            bidirectional=True,\n",
    "            batch_first=True\n",
    "        )\n",
    "\n",
    "        # Fully connected layers\n",
    "        self.fc1 = nn.Linear(hidden_dim * 2, 256)   # *2 because bidirectional\n",
    "        self.fc2 = nn.Linear(256, 128)\n",
    "        self.fc3 = nn.Linear(128, 64)\n",
    "        self.fc_out = nn.Linear(64, n_classes)\n",
    "\n",
    "        self.relu = nn.ReLU()\n",
    "        self.dropout = nn.Dropout(0.3)\n",
    "\n",
    "    def forward(self, x):\n",
    "        # x: [batch_size, seq_len]\n",
    "        x = self.embedding(x)                     # -> [batch_size, seq_len, embedding_dim]\n",
    "        output, h = self.bigru(x)                 # h: [num_layers * num_directions, batch_size, hidden_dim]\n",
    "\n",
    "        # Concatenate last hidden states from forward & backward GRU\n",
    "        if self.bigru.bidirectional:\n",
    "            h = torch.cat((h[-2,:,:], h[-1,:,:]), dim=1)\n",
    "        else:\n",
    "            h = h[-1,:,:]\n",
    "\n",
    "        # Classifier head\n",
    "        x = self.relu(self.fc1(h))\n",
    "        x = self.dropout(x)\n",
    "        x = self.relu(self.fc2(x))\n",
    "        x = self.dropout(x)\n",
    "        x = self.relu(self.fc3(x))\n",
    "        x = self.fc_out(x)\n",
    "\n",
    "        return x\n",
    "\n",
    "history = {\n",
    "    \"train_loss\": [],\n",
    "    \"val_loss\": [],\n",
    "    \"train_acc\": [],\n",
    "    \"val_acc\": []\n",
    "}\n",
    "\n",
    "def train_model(model, train_loader, val_loader, n_epochs=20, lr=1e-3, patience=3):\n",
    "    global history\n",
    "    \n",
    "    device = torch.device(\"cuda\" if torch.cuda.is_available() else \"cpu\")\n",
    "    model.to(device)\n",
    "\n",
    "    criterion = nn.CrossEntropyLoss()\n",
    "    optimizer = optim.Adam(model.parameters(), lr=lr)\n",
    "\n",
    "    best_val_loss = float(\"inf\")\n",
    "    patience_counter = 0\n",
    "    best_model_wts = None\n",
    "\n",
    "    for epoch in range(n_epochs):\n",
    "        epoch_start = time.time()\n",
    "        \n",
    "        # --- Train ---\n",
    "        model.train()\n",
    "        train_loss, correct, total = 0, 0, 0\n",
    "        for X, y in train_loader:\n",
    "            X, y = X.to(device), y.to(device)\n",
    "\n",
    "            optimizer.zero_grad()\n",
    "            outputs = model(X)\n",
    "            loss = criterion(outputs, y)\n",
    "            loss.backward()\n",
    "            optimizer.step()\n",
    "\n",
    "            train_loss += loss.item() * X.size(0)\n",
    "            preds = outputs.argmax(dim=1)\n",
    "            correct += (preds == y).sum().item()\n",
    "            total += y.size(0)\n",
    "\n",
    "        train_acc = correct / total\n",
    "        train_loss /= total\n",
    "\n",
    "        # --- Validation ---\n",
    "        model.eval()\n",
    "        val_loss, correct, total = 0, 0, 0\n",
    "        with torch.no_grad():\n",
    "            for X, y in val_loader:\n",
    "                X, y = X.to(device), y.to(device)\n",
    "                outputs = model(X)\n",
    "                loss = criterion(outputs, y)\n",
    "\n",
    "                val_loss += loss.item() * X.size(0)\n",
    "                preds = outputs.argmax(dim=1)\n",
    "                correct += (preds == y).sum().item()\n",
    "                total += y.size(0)\n",
    "\n",
    "        val_acc = correct / total\n",
    "        val_loss /= total\n",
    "\n",
    "        # --- Save history ---\n",
    "        history[\"train_loss\"].append(train_loss)\n",
    "        history[\"val_loss\"].append(val_loss)\n",
    "        history[\"train_acc\"].append(train_acc)\n",
    "        history[\"val_acc\"].append(val_acc)\n",
    "\n",
    "        epoch_time = time.time() - epoch_start\n",
    "\n",
    "        print(f\"Epoch {epoch+1}: \"\n",
    "              f\"Train loss={train_loss:.4f}, acc={train_acc:.4f} | \"\n",
    "              f\"Val loss={val_loss:.4f}, acc={val_acc:.4f} | \"\n",
    "              f\"Time: {epoch_time:.2f}s\")\n",
    "\n",
    "        # --- Early Stopping ---\n",
    "        if val_loss < best_val_loss:\n",
    "            best_val_loss = val_loss\n",
    "            best_model_wts = model.state_dict()\n",
    "            patience_counter = 0\n",
    "        else:\n",
    "            patience_counter += 1\n",
    "            if patience_counter >= patience:\n",
    "                print(\"Early stopping triggered.\")\n",
    "                if best_model_wts is not None:\n",
    "                    model.load_state_dict(best_model_wts)\n",
    "                break\n",
    "\n",
    "    return model"
   ]
  },
  {
   "cell_type": "code",
   "execution_count": 10,
   "id": "267240d0-1e89-498a-aebe-d223b215e37e",
   "metadata": {},
   "outputs": [
    {
     "name": "stdout",
     "output_type": "stream",
     "text": [
      "Epoch 1: Train loss=0.6520, acc=0.6051 | Val loss=0.6307, acc=0.6421 | Time: 2.57s\n",
      "Epoch 2: Train loss=0.5927, acc=0.6679 | Val loss=0.5785, acc=0.6782 | Time: 2.20s\n",
      "Epoch 3: Train loss=0.5111, acc=0.7336 | Val loss=0.5619, acc=0.6974 | Time: 2.13s\n",
      "Epoch 4: Train loss=0.4300, acc=0.7910 | Val loss=0.5442, acc=0.7417 | Time: 2.10s\n",
      "Epoch 5: Train loss=0.3438, acc=0.8404 | Val loss=0.5530, acc=0.7609 | Time: 2.08s\n",
      "Epoch 6: Train loss=0.2745, acc=0.8801 | Val loss=0.5609, acc=0.7838 | Time: 2.09s\n",
      "Epoch 7: Train loss=0.2168, acc=0.9073 | Val loss=0.6103, acc=0.7889 | Time: 2.07s\n",
      "Early stopping triggered.\n"
     ]
    }
   ],
   "source": [
    "vocab_size = 21\n",
    "embedding_dim = 128\n",
    "hidden_dim = 128\n",
    "\n",
    "model = GRUClassifier(vocab_size, embedding_dim, hidden_dim, n_classes)\n",
    "trained_model = train_model(model, train_loader, val_loader, n_epochs=20, lr=1e-3, patience=3)"
   ]
  },
  {
   "cell_type": "code",
   "execution_count": 11,
   "id": "5da5930c-5de0-4e71-991b-8d0b66195f2c",
   "metadata": {},
   "outputs": [
    {
     "data": {
      "image/png": "[encoded data removed]",
      "text/plain": [
       "<Figure size 1200x500 with 2 Axes>"
      ]
     },
     "metadata": {},
     "output_type": "display_data"
    }
   ],
   "source": [
    "import matplotlib.pyplot as plt\n",
    "\n",
    "fig, axes = plt.subplots(1, 2, figsize=(12, 5))\n",
    "\n",
    "# --- Loss subplot ---\n",
    "axes[0].plot(history[\"train_loss\"], label=\"Train Loss\")\n",
    "axes[0].plot(history[\"val_loss\"], label=\"Val Loss\")\n",
    "axes[0].set_title(\"Loss Curve\")\n",
    "axes[0].set_xlabel(\"Epoch\")\n",
    "axes[0].set_ylabel(\"Loss\")\n",
    "axes[0].legend()\n",
    "\n",
    "# --- Accuracy subplot ---\n",
    "axes[1].plot(history[\"train_acc\"], label=\"Train Acc\")\n",
    "axes[1].plot(history[\"val_acc\"], label=\"Val Acc\")\n",
    "axes[1].set_title(\"Accuracy Curve\")\n",
    "axes[1].set_xlabel(\"Epoch\")\n",
    "axes[1].set_ylabel(\"Accuracy\")\n",
    "axes[1].legend()\n",
    "\n",
    "plt.tight_layout()\n",
    "plt.show()"
   ]
  },
  {
   "cell_type": "code",
   "execution_count": 12,
   "id": "8f980547-b408-421b-8874-b40ea840e383",
   "metadata": {},
   "outputs": [],
   "source": [
    "import torch\n",
    "import time\n",
    "\n",
    "def get_predictions(model, test_loader):\n",
    "    device = torch.device(\"cuda\" if torch.cuda.is_available() else \"cpu\")\n",
    "    model.to(device)\n",
    "    model.eval()\n",
    "    \n",
    "    all_preds = []\n",
    "    all_labels = []\n",
    "    \n",
    "    with torch.no_grad():\n",
    "        for X, y in test_loader:\n",
    "            X, y = X.to(device), y.to(device)\n",
    "            outputs = model(X)\n",
    "            preds = outputs.argmax(dim=1)\n",
    "            \n",
    "            all_preds.extend(preds.cpu().numpy())\n",
    "            all_labels.extend(y.cpu().numpy())\n",
    "\n",
    "    return all_preds, all_labels\n",
    "\n",
    "y_pred, y_true = get_predictions(trained_model, test_loader)"
   ]
  },
  {
   "cell_type": "code",
   "execution_count": 13,
   "id": "e235f9a1-9d13-498e-a871-75fbfb273c21",
   "metadata": {},
   "outputs": [],
   "source": [
    "from sklearn.metrics import accuracy_score, classification_report, confusion_matrix"
   ]
  },
  {
   "cell_type": "code",
   "execution_count": 14,
   "id": "d1775c2f-9317-41a6-bef8-ed5d89d86da0",
   "metadata": {},
   "outputs": [
    {
     "data": {
      "text/plain": [
       "0.7912607026867434"
      ]
     },
     "execution_count": 14,
     "metadata": {},
     "output_type": "execute_result"
    }
   ],
   "source": [
    "accuracy_score(y_true, y_pred)"
   ]
  },
  {
   "cell_type": "code",
   "execution_count": 15,
   "id": "9809d250-5d95-4636-959d-e51eb7e90032",
   "metadata": {},
   "outputs": [
    {
     "name": "stdout",
     "output_type": "stream",
     "text": [
      "              precision    recall  f1-score   support\n",
      "\n",
      "           0       0.80      0.78      0.79      1683\n",
      "           1       0.79      0.80      0.79      1704\n",
      "\n",
      "    accuracy                           0.79      3387\n",
      "   macro avg       0.79      0.79      0.79      3387\n",
      "weighted avg       0.79      0.79      0.79      3387\n",
      "\n"
     ]
    }
   ],
   "source": [
    "print(classification_report(y_true, y_pred))"
   ]
  },
  {
   "cell_type": "code",
   "execution_count": 16,
   "id": "3366dfb7-2e0b-4cca-88d3-203fcd0db716",
   "metadata": {},
   "outputs": [
    {
     "data": {
      "image/png": "[encoded data removed]",
      "text/plain": [
       "<Figure size 1000x700 with 2 Axes>"
      ]
     },
     "metadata": {},
     "output_type": "display_data"
    }
   ],
   "source": [
    "cm = confusion_matrix(y_true, y_pred)\n",
    "plt.figure(figsize=(10,7))\n",
    "sns.heatmap(cm, cmap='Blues');"
   ]
  },
  {
   "cell_type": "code",
   "execution_count": 17,
   "id": "616371e0-4ccf-48eb-a0f6-875f41a477e3",
   "metadata": {},
   "outputs": [],
   "source": [
    "torch.save(model.state_dict(), \"./models/gru_model_weights.pth\")"
   ]
  },
  {
   "cell_type": "code",
   "execution_count": 18,
   "id": "46b931a7-1855-4954-9169-0df8bab83931",
   "metadata": {},
   "outputs": [],
   "source": [
    "torch.save(model, \"./models/gru_model_full.pth\")"
   ]
  },
  {
   "cell_type": "code",
   "execution_count": 19,
   "id": "8870e1bf-1fcc-4e36-b77e-0da3ff262f99",
   "metadata": {},
   "outputs": [],
   "source": [
    "import torch\n",
    "from sklearn.metrics import accuracy_score, precision_score, recall_score, f1_score"
   ]
  },
  {
   "cell_type": "code",
   "execution_count": 20,
   "id": "ac55fa54-a5fb-4195-a8a4-889dd7ca23d6",
   "metadata": {},
   "outputs": [
    {
     "data": {
      "text/plain": [
       "GRUClassifier(\n",
       "  (embedding): Embedding(21, 128, padding_idx=0)\n",
       "  (bigru): GRU(128, 128, batch_first=True, bidirectional=True)\n",
       "  (fc1): Linear(in_features=256, out_features=256, bias=True)\n",
       "  (fc2): Linear(in_features=256, out_features=128, bias=True)\n",
       "  (fc3): Linear(in_features=128, out_features=64, bias=True)\n",
       "  (fc_out): Linear(in_features=64, out_features=2, bias=True)\n",
       "  (relu): ReLU()\n",
       "  (dropout): Dropout(p=0.3, inplace=False)\n",
       ")"
      ]
     },
     "execution_count": 20,
     "metadata": {},
     "output_type": "execute_result"
    }
   ],
   "source": [
    "device = torch.device(\"cuda\" if torch.cuda.is_available() else \"cpu\")\n",
    "model = torch.load(\"./models/gru_model_full.pth\", map_location=device, weights_only=False)\n",
    "model.to(device)\n",
    "model.eval()"
   ]
  },
  {
   "cell_type": "code",
   "execution_count": 21,
   "id": "d1f6e337-a4f4-4aad-b664-d025395f1dba",
   "metadata": {},
   "outputs": [
    {
     "name": "stdout",
     "output_type": "stream",
     "text": [
      "Accuracy: 0.7913\n",
      "Precision: 0.7914\n",
      "Recall: 0.7913\n",
      "F1 Score: 0.7912\n"
     ]
    }
   ],
   "source": [
    "all_preds = []\n",
    "all_labels = []\n",
    "\n",
    "with torch.no_grad():\n",
    "    for X, y in test_loader:\n",
    "        X, y = X.to(device), y.to(device)\n",
    "        outputs = model(X)\n",
    "        _, preds = torch.max(outputs, 1)\n",
    "        all_preds.extend(preds.cpu().numpy())\n",
    "        all_labels.extend(y.cpu().numpy())\n",
    "\n",
    "accuracy = accuracy_score(all_labels, all_preds)\n",
    "precision = precision_score(all_labels, all_preds, average=\"weighted\")\n",
    "recall = recall_score(all_labels, all_preds, average=\"weighted\")\n",
    "f1 = f1_score(all_labels, all_preds, average=\"weighted\")\n",
    "\n",
    "print(f\"Accuracy: {accuracy:.4f}\")\n",
    "print(f\"Precision: {precision:.4f}\")\n",
    "print(f\"Recall: {recall:.4f}\")\n",
    "print(f\"F1 Score: {f1:.4f}\")"
   ]
  },
  {
   "cell_type": "code",
   "execution_count": null,
   "id": "0be9e43c-39f3-4919-83ed-71917d0eec9d",
   "metadata": {},
   "outputs": [],
   "source": []
  }
 ],
 "metadata": {
  "kernelspec": {
   "display_name": "Python 3 (ipykernel)",
   "language": "python",
   "name": "python3"
  },
  "language_info": {
   "codemirror_mode": {
    "name": "ipython",
    "version": 3
   },
   "file_extension": ".py",
   "mimetype": "text/x-python",
   "name": "python",
   "nbconvert_exporter": "python",
   "pygments_lexer": "ipython3",
   "version": "3.10.18"
  }
 },
 "nbformat": 4,
 "nbformat_minor": 5
}
